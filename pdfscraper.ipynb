{
 "cells": [
  {
   "cell_type": "code",
   "execution_count": 1,
   "metadata": {},
   "outputs": [],
   "source": [
    "import fitz  # PyMuPDF\n",
    "import re\n",
    "import os\n",
    "import csv\n",
    "import unicodedata"
   ]
  },
  {
   "cell_type": "code",
   "execution_count": 2,
   "metadata": {},
   "outputs": [],
   "source": [
    "# Your folder paths\n",
    "input_folder = \"pdfs\"\n",
    "output_folder = \"csvs\""
   ]
  },
  {
   "cell_type": "code",
   "execution_count": 3,
   "metadata": {},
   "outputs": [],
   "source": [
    "# Step 1: Extract text from PDF\n",
    "def extract_text_from_pdf(pdf_path):\n",
    "    text = \"\"\n",
    "    with fitz.open(pdf_path) as doc:\n",
    "        for page in doc:\n",
    "            text += page.get_text()\n",
    "    return text"
   ]
  },
  {
   "cell_type": "code",
   "execution_count": 4,
   "metadata": {},
   "outputs": [],
   "source": [
    "# Step 2: Remove non-ASCII characters\n",
    "def remove_non_ascii(text):\n",
    "    text = unicodedata.normalize(\"NFKD\", text)\n",
    "    text = text.replace('\"', '')  # remove standard quotes\n",
    "    text = re.sub(r'[^\\x00-\\x7F]+', '', text)\n",
    "    return text"
   ]
  },
  {
   "cell_type": "code",
   "execution_count": 5,
   "metadata": {},
   "outputs": [],
   "source": [
    "# Step 3: Smart newlines before capitalized words\n",
    "def insert_newlines_before_caps(text):\n",
    "    # Start new line before capitalized words (but not if preceded by space, caps, slash, hyphen)\n",
    "    return re.sub(r'(?<![\\sA-Z\\-/()])([A-Z][a-z])', r'\\n\\1', text)"
   ]
  },
  {
   "cell_type": "code",
   "execution_count": 6,
   "metadata": {},
   "outputs": [],
   "source": [
    "# Step 4: General newlines before abbreviations like NGO, U.S., AI, etc.\n",
    "def insert_newlines_before_abbreviations(text):\n",
    "    # All-caps abbreviations like NGOs, HTML, UN\n",
    "    text = re.sub(r'(?<![\\sA-Z])([A-Z]{2,}(s?)\\.?)', r'\\n\\1', text)\n",
    "\n",
    "    # Dotted abbreviations like U.S., U.S.A., E.U.\n",
    "    text = re.sub(r'(?<![\\sA-Z])((?:[A-Z]\\.){2,}[A-Z]?\\.?)', r'\\n\\1', text)\n",
    "\n",
    "    return text"
   ]
  },
  {
   "cell_type": "code",
   "execution_count": 7,
   "metadata": {},
   "outputs": [],
   "source": [
    "ACRONYMS = [\"FBI\", \"CIA\", \"EPA\", \"NOAA\", \"NASA\", \"DOE\"]"
   ]
  },
  {
   "cell_type": "code",
   "execution_count": 8,
   "metadata": {},
   "outputs": [],
   "source": [
    "def insert_newlines_between_known_acronyms(text, acronyms):\n",
    "    # Sort to match longer acronyms first\n",
    "    acronyms = sorted(acronyms, key=len, reverse=True)\n",
    "\n",
    "    for a1 in acronyms:\n",
    "        # First, try to split a1 + a2\n",
    "        for a2 in acronyms:\n",
    "            if a1 != a2:\n",
    "                combined = a1 + a2\n",
    "                if combined in text:\n",
    "                    text = text.replace(combined, f\"{a1}\\n{a2}\\n\")\n",
    "\n",
    "        # If no match found, still try to insert newline after a1 if it's glued to something\n",
    "        pattern = re.compile(rf'({a1})(?=[A-Z])')  # a1 followed by a capital letter\n",
    "        text = pattern.sub(r'\\1\\n', text)\n",
    "\n",
    "    return text"
   ]
  },
  {
   "cell_type": "code",
   "execution_count": 9,
   "metadata": {},
   "outputs": [],
   "source": [
    "def insert_newlines_at_sentence_starts(text):\n",
    "    # Match a period (or ! or ?) followed by space and a capital letter\n",
    "    # Use a positive lookbehind to ensure sentence-ending punctuation\n",
    "    return re.sub(r'(\\s)([.!?]) ([A-Z])', r'\\1\\2\\n\\3', text)\n"
   ]
  },
  {
   "cell_type": "code",
   "execution_count": 10,
   "metadata": {},
   "outputs": [],
   "source": [
    "def split_sentences_on_long_lines(text, threshold=100):\n",
    "    lines = text.splitlines()\n",
    "    result = []\n",
    "\n",
    "    for line in lines:\n",
    "        if len(line.strip()) > threshold:\n",
    "            # Apply sentence splitting only on long lines\n",
    "            split_line = re.sub(r'([.!?]) ([A-Z])', r'\\1\\n\\2', line)\n",
    "            result.extend(split_line.splitlines())\n",
    "        else:\n",
    "            result.append(line)\n",
    "\n",
    "    return \"\\n\".join(result)"
   ]
  },
  {
   "cell_type": "code",
   "execution_count": 11,
   "metadata": {},
   "outputs": [],
   "source": [
    "def restore_exceptions(text):\n",
    "    # Rejoin \"Ameri\\nCorps\" if it was split\n",
    "    text = text.replace(\"Bio\\nTech\", \"BioTech\")\n",
    "    text = text.replace(\"Eco\\nTourism\", \"EcoTourism\")\n",
    "    text = text.replace(\"Peace\\nCorps\", \"PeaceCorps\")\n",
    "    text = text.replace(\"Peace Corps\", \"PeaceCorps\")\n",
    "    return text.replace(\"Ameri\\nCorps\", \"AmeriCorps\")"
   ]
  },
  {
   "cell_type": "code",
   "execution_count": 12,
   "metadata": {},
   "outputs": [],
   "source": [
    "def trim_blank_and_outer_spaces(text):\n",
    "    return \"\\n\".join(\n",
    "        line.strip() for line in text.splitlines() if line.strip() != \"\" \n",
    "    )"
   ]
  },
  {
   "cell_type": "code",
   "execution_count": 13,
   "metadata": {},
   "outputs": [],
   "source": [
    "def apply_trim_rules(text, rules):\n",
    "    lines = text.splitlines()\n",
    "    result = []\n",
    "\n",
    "    i = 0\n",
    "    while i < len(lines):\n",
    "        line = lines[i]\n",
    "\n",
    "        # Check for remove_after marker\n",
    "        if any(rule[\"type\"] == \"remove_after\" and rule[\"marker\"] in line for rule in rules):\n",
    "            break\n",
    "\n",
    "        # Skip lines that match any rule\n",
    "        skip = False\n",
    "        for rule in rules:\n",
    "            if rule[\"type\"] == \"remove_if_contains\" and rule[\"text\"] in line:\n",
    "                skip = True\n",
    "                break\n",
    "            elif rule[\"type\"] == \"remove_if_equals\" and line.strip() == rule[\"text\"]:\n",
    "                skip = True\n",
    "                break\n",
    "            elif rule[\"type\"] == \"remove_if_regex_matches\":\n",
    "                if re.search(rule[\"pattern\"], line):\n",
    "                    skip = True\n",
    "                    break\n",
    "            elif rule[\"type\"] == \"remove_if_length_exceeds\":\n",
    "                if len(line.strip()) > rule[\"limit\"]:\n",
    "                    skip = True\n",
    "                    break\n",
    "\n",
    "        if not skip:\n",
    "            result.append(line)\n",
    "\n",
    "        i += 1\n",
    "\n",
    "    return \"\\n\".join(result)"
   ]
  },
  {
   "cell_type": "code",
   "execution_count": 14,
   "metadata": {},
   "outputs": [],
   "source": [
    "# Define your trimming rules\n",
    "trim_rules = [\n",
    "    {\"type\": \"remove_after\", \"marker\": \"Marketable Skills\"},\n",
    "    {\"type\": \"remove_after\", \"marker\": \"Academic and Career Advising Center Services\"},\n",
    "    {\"type\": \"remove_if_contains\", \"text\": \"Career Guide:\"},\n",
    "    {\"type\": \"remove_if_contains\", \"text\": \"Possible Employers\"},\n",
    "    {\"type\": \"remove_if_contains\", \"text\": \"The following list\"},\n",
    "    {\"type\": \"remove_if_equals\", \"text\": \"Related Job Titles\"},\n",
    "    {\"type\": \"remove_if_regex_matches\", \"pattern\": r\"Private.*:\"},\n",
    "    {\"type\": \"remove_if_contains\", \"text\": \"State, County & Local Agencies:\"},\n",
    "    {\"type\": \"remove_if_contains\", \"text\": \"Federal/National Programs\"},\n",
    "    {\"type\": \"remove_if_contains\", \"text\": \"Federal Agencies:\"}, \n",
    "    {\"type\": \"remove_if_length_exceeds\", \"limit\": 100}\n",
    "]"
   ]
  },
  {
   "cell_type": "code",
   "execution_count": 15,
   "metadata": {},
   "outputs": [],
   "source": [
    "def process_all_pdfs(input_folder, output_folder, trim_rules):\n",
    "    for filename in os.listdir(input_folder):\n",
    "        if filename.lower().endswith(\".pdf\"):\n",
    "            pdf_path = os.path.join(input_folder, filename)\n",
    "            base_name = os.path.splitext(filename)[0]\n",
    "            output_path = os.path.join(output_folder, base_name + \".csv\")\n",
    "\n",
    "            # Full pipeline\n",
    "            raw_text = extract_text_from_pdf(pdf_path)\n",
    "            ascii_text = remove_non_ascii(raw_text)\n",
    "            with_sentence_newlines = insert_newlines_at_sentence_starts(ascii_text)\n",
    "            with_caps_on_newlines = insert_newlines_before_caps(with_sentence_newlines)\n",
    "            with_abbrs_on_newlines = insert_newlines_before_abbreviations(with_caps_on_newlines)\n",
    "            with_acronyms_split = insert_newlines_between_known_acronyms(with_abbrs_on_newlines, ACRONYMS)\n",
    "            with_exceptions_restored = restore_exceptions(with_acronyms_split)\n",
    "            with_sentence_splits = split_sentences_on_long_lines(with_exceptions_restored)\n",
    "            fully_trimmed = trim_blank_and_outer_spaces(with_sentence_splits)\n",
    "            final_text = apply_trim_rules(fully_trimmed, trim_rules)\n",
    "\n",
    "            # Write each cleaned line as a row in a CSV\n",
    "            with open(output_path, \"w\", newline='', encoding=\"utf-8\") as f:\n",
    "                writer = csv.writer(f)\n",
    "                for line in final_text.splitlines():\n",
    "                    writer.writerow([line])\n",
    "\n",
    "            print(f\"Saved CSV to: {output_path}\")"
   ]
  },
  {
   "cell_type": "code",
   "execution_count": 16,
   "metadata": {},
   "outputs": [
    {
     "name": "stdout",
     "output_type": "stream",
     "text": [
      "Saved CSV to: csvs/Business%20Admin_0.csv\n",
      "Saved CSV to: csvs/World%20Languages%20%26%20Cultures.csv\n",
      "Saved CSV to: csvs/Eco%20Resto.csv\n",
      "Saved CSV to: csvs/Environmental%20Science_0.csv\n",
      "Saved CSV to: csvs/Oceanography_0.csv\n",
      "Saved CSV to: csvs/Psychology%202013.csv\n",
      "Saved CSV to: csvs/Physics%20%26%20Astronomy_0.csv\n",
      "Saved CSV to: csvs/Religious%20Studies.csv\n",
      "Saved CSV to: csvs/NR%20Recreation.csv\n",
      "Saved CSV to: csvs/Forestry_0.csv\n",
      "Saved CSV to: csvs/Communication_0.csv\n",
      "Saved CSV to: csvs/Environmental%20Management%20and%20Protection_0.csv\n",
      "Saved CSV to: csvs/Rangeland%20Resources_0.csv\n",
      "Saved CSV to: csvs/Music.csv\n",
      "Saved CSV to: csvs/Fisheries_0.csv\n",
      "Saved CSV to: csvs/Education%20%26%20Interpretation.csv\n",
      "Saved CSV to: csvs/Dance%20Studies.csv\n",
      "Saved CSV to: csvs/Philosophy.csv\n",
      "Saved CSV to: csvs/Environmental%20Studies.csv\n",
      "Saved CSV to: csvs/History.csv\n",
      "Saved CSV to: csvs/Geospatial%20Science.csv\n",
      "Saved CSV to: csvs/Anthropology.csv\n",
      "Saved CSV to: csvs/Theatre%20Arts.csv\n",
      "Saved CSV to: csvs/Computer%20Science_0.csv\n",
      "Saved CSV to: csvs/Film.csv\n",
      "Saved CSV to: csvs/Social%20Work%202013.csv\n",
      "Saved CSV to: csvs/Geology_0.csv\n",
      "Saved CSV to: csvs/Economics%202013.csv\n",
      "Saved CSV to: csvs/Planning%20and%20Policy.csv\n",
      "Saved CSV to: csvs/Biology%2C%20Zoology%2C%20Botany_0.csv\n",
      "Saved CSV to: csvs/Recreation%20Admin%202013.csv\n",
      "Saved CSV to: csvs/Chemistry_0.csv\n",
      "Saved CSV to: csvs/Geography.csv\n",
      "Saved CSV to: csvs/Art.csv\n",
      "Saved CSV to: csvs/Political%20Science.csv\n",
      "Saved CSV to: csvs/Native%20American%20Studies.csv\n",
      "Saved CSV to: csvs/CRGS.csv\n",
      "Saved CSV to: csvs/English.csv\n",
      "Saved CSV to: csvs/Kinesiology%202013.csv\n",
      "Saved CSV to: csvs/Criminology%20and%20Justice%20Studies.csv\n",
      "Saved CSV to: csvs/Wildlife_0.csv\n",
      "Saved CSV to: csvs/International%20Studies.csv\n",
      "Saved CSV to: csvs/Child%20Development%202013.csv\n",
      "Saved CSV to: csvs/Environmental%20Resources%20Engineering.csv\n",
      "Saved CSV to: csvs/Math_0.csv\n",
      "Saved CSV to: csvs/Energy%20%26%20Climate.csv\n",
      "Saved CSV to: csvs/Journalism.csv\n",
      "Saved CSV to: csvs/Sociology.csv\n"
     ]
    }
   ],
   "source": [
    "# Call the loop\n",
    "process_all_pdfs(input_folder, output_folder, trim_rules)"
   ]
  }
 ],
 "metadata": {
  "kernelspec": {
   "display_name": "base",
   "language": "python",
   "name": "python3"
  },
  "language_info": {
   "codemirror_mode": {
    "name": "ipython",
    "version": 3
   },
   "file_extension": ".py",
   "mimetype": "text/x-python",
   "name": "python",
   "nbconvert_exporter": "python",
   "pygments_lexer": "ipython3",
   "version": "3.12.9"
  }
 },
 "nbformat": 4,
 "nbformat_minor": 2
}
