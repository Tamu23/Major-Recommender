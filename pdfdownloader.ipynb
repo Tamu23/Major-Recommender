{
 "cells": [
  {
   "cell_type": "code",
   "execution_count": 16,
   "metadata": {},
   "outputs": [],
   "source": [
    "from selenium import webdriver\n",
    "from selenium.webdriver.common.by import By\n",
    "from selenium.webdriver.support.ui import WebDriverWait\n",
    "from selenium.webdriver.support import expected_conditions as EC\n",
    "from bs4 import BeautifulSoup\n",
    "import requests\n",
    "import os\n",
    "from urllib.parse import urljoin\n",
    "import time"
   ]
  },
  {
   "cell_type": "code",
   "execution_count": 17,
   "metadata": {},
   "outputs": [],
   "source": [
    "# Setup\n",
    "url = \"https://www.humboldt.edu/career-development/students/career-exploration-guides\"\n",
    "driver = webdriver.Chrome()\n",
    "driver.get(url)\n",
    "\n",
    "# Optional: wait for JavaScript to load content\n",
    "time.sleep(3) \n",
    "\n",
    "# Wait for key elements to load\n",
    "try:\n",
    "    WebDriverWait(driver, 10).until(\n",
    "        EC.presence_of_element_located((By.CLASS_NAME, \"col-lg-6\"))\n",
    "    )\n",
    "except:\n",
    "    print(\"Timeout waiting for content.\")\n",
    "    driver.quit()\n",
    "    exit()\n",
    "\n",
    "# Scroll to bottom to load all content\n",
    "last_height = driver.execute_script(\"return document.body.scrollHeight\")\n",
    "while True:\n",
    "    driver.execute_script(\"window.scrollTo(0, document.body.scrollHeight);\")\n",
    "    time.sleep(2)  # Wait for new content to load\n",
    "    new_height = driver.execute_script(\"return document.body.scrollHeight\")\n",
    "    if new_height == last_height:\n",
    "        break\n",
    "    last_height = new_height\n",
    "\n",
    "# Parse the loaded page\n",
    "soup = BeautifulSoup(driver.page_source, \"html.parser\")\n",
    "driver.quit()"
   ]
  },
  {
   "cell_type": "code",
   "execution_count": 18,
   "metadata": {},
   "outputs": [],
   "source": [
    "# Find and extract PDF links\n",
    "pdf_links = []\n",
    "for div in soup.find_all(\"div\", class_=\"col-lg-6\"):\n",
    "    for a_tag in div.find_all(\"a\", href=True):\n",
    "        href = a_tag[\"href\"]\n",
    "        if href.endswith(\".pdf\"):\n",
    "            pdf_links.append(urljoin(url, href))"
   ]
  },
  {
   "cell_type": "code",
   "execution_count": 19,
   "metadata": {},
   "outputs": [
    {
     "name": "stdout",
     "output_type": "stream",
     "text": [
      "Downloading: https://acac.humboldt.edu/sites/default/files/Anthropology.pdf\n",
      "Downloading: https://acac.humboldt.edu/sites/default/files/Art.pdf\n",
      "Downloading: https://acac.humboldt.edu/sites/default/files/Communication_0.pdf\n",
      "Downloading: https://acac.humboldt.edu/sites/default/files/CRGS.pdf\n",
      "Downloading: https://acac.humboldt.edu/sites/default/files/Criminology%20and%20Justice%20Studies.pdf\n",
      "Downloading: https://acac.humboldt.edu/sites/default/files/Dance%20Studies.pdf\n",
      "Downloading: https://acac.humboldt.edu/sites/default/files/English.pdf\n",
      "Downloading: https://acac.humboldt.edu/sites/default/files/Environmental%20Studies.pdf\n",
      "Downloading: https://acac.humboldt.edu/sites/default/files/Film.pdf\n",
      "Downloading: https://acac.humboldt.edu/sites/default/files/Geography.pdf\n",
      "Downloading: https://acac.humboldt.edu/sites/default/files/History.pdf\n",
      "Downloading: https://acac.humboldt.edu/sites/default/files/International%20Studies.pdf\n",
      "Downloading: https://acac.humboldt.edu/sites/default/files/Journalism.pdf\n",
      "Downloading: https://acac.humboldt.edu/sites/default/files/Music.pdf\n",
      "Downloading: https://acac.humboldt.edu/sites/default/files/Native%20American%20Studies.pdf\n",
      "Downloading: https://acac.humboldt.edu/sites/default/files/Philosophy.pdf\n",
      "Downloading: https://acac.humboldt.edu/sites/default/files/Political%20Science.pdf\n",
      "Downloading: https://acac.humboldt.edu/sites/default/files/Religious%20Studies.pdf\n",
      "Downloading: https://acac.humboldt.edu/sites/default/files/Sociology.pdf\n",
      "Downloading: https://acac.humboldt.edu/sites/default/files/Theatre%20Arts.pdf\n",
      "Downloading: https://acac.humboldt.edu/sites/default/files/World%20Languages%20%26%20Cultures.pdf\n",
      "Downloading: https://acac.humboldt.edu/sites/default/files/Biology%2C%20Zoology%2C%20Botany_0.pdf\n",
      "Downloading: https://acac.humboldt.edu/sites/default/files/Chemistry_0.pdf\n",
      "Downloading: https://acac.humboldt.edu/sites/default/files/Computer%20Science_0.pdf\n",
      "Downloading: https://acac.humboldt.edu/sites/default/files/Eco%20Resto.pdf\n",
      "Downloading: https://acac.humboldt.edu/sites/default/files/Education%20%26%20Interpretation.pdf\n",
      "Downloading: https://acac.humboldt.edu/sites/default/files/Energy%20%26%20Climate.pdf\n",
      "Downloading: https://acac.humboldt.edu/sites/default/files/Environmental%20Management%20and%20Protection_0.pdf\n",
      "Downloading: https://acac.humboldt.edu/sites/default/files/Environmental%20Resources%20Engineering.pdf\n",
      "Downloading: https://acac.humboldt.edu/sites/default/files/Environmental%20Science_0.pdf\n",
      "Downloading: https://acac.humboldt.edu/sites/default/files/Fisheries_0.pdf\n",
      "Downloading: https://acac.humboldt.edu/sites/default/files/Forestry_0.pdf\n",
      "Downloading: https://acac.humboldt.edu/sites/default/files/Geology_0.pdf\n",
      "Downloading: https://acac.humboldt.edu/sites/default/files/Geospatial%20Science.pdf\n",
      "Downloading: https://acac.humboldt.edu/sites/default/files/Math_0.pdf\n",
      "Downloading: https://acac.humboldt.edu/sites/default/files/Native%20American%20Studies.pdf\n",
      "Downloading: https://acac.humboldt.edu/sites/default/files/NR%20Recreation.pdf\n",
      "Downloading: https://acac.humboldt.edu/sites/default/files/Oceanography_0.pdf\n",
      "Downloading: https://acac.humboldt.edu/sites/default/files/Physics%20%26%20Astronomy_0.pdf\n",
      "Downloading: https://acac.humboldt.edu/sites/default/files/Planning%20and%20Policy.pdf\n",
      "Downloading: https://acac.humboldt.edu/sites/default/files/Rangeland%20Resources_0.pdf\n",
      "Downloading: https://acac.humboldt.edu/sites/default/files/Wildlife_0.pdf\n",
      "Downloading: https://acac.humboldt.edu/sites/default/files/Business%20Admin_0.pdf\n",
      "Downloading: https://acac.humboldt.edu/sites/default/files/Child%20Development%202013.pdf\n",
      "Downloading: https://acac.humboldt.edu/sites/default/files/Economics%202013.pdf\n",
      "Downloading: https://acac.humboldt.edu/sites/default/files/Kinesiology%202013.pdf\n",
      "Downloading: https://acac.humboldt.edu/sites/default/files/Psychology%202013.pdf\n",
      "Downloading: https://acac.humboldt.edu/sites/default/files/Recreation%20Admin%202013.pdf\n",
      "Downloading: https://acac.humboldt.edu/sites/default/files/Social%20Work%202013.pdf\n",
      "All PDFs downloaded.\n"
     ]
    }
   ],
   "source": [
    "# Download PDFs\n",
    "os.makedirs(\"/Users/tms155/Library/CloudStorage/GoogleDrive-tms155@humboldt.edu/My Drive/1 DATA 322/Project/My files/pdfs\", exist_ok=True)\n",
    "for pdf_url in pdf_links:\n",
    "    file_name = pdf_url.split(\"/\")[-1]\n",
    "    file_path = os.path.join(\"pdfs\", file_name)\n",
    "    print(f\"Downloading: {pdf_url}\")\n",
    "    response = requests.get(pdf_url)\n",
    "    with open(file_path, \"wb\") as f:\n",
    "        f.write(response.content)\n",
    "\n",
    "print(\"All PDFs downloaded.\")"
   ]
  }
 ],
 "metadata": {
  "kernelspec": {
   "display_name": "base",
   "language": "python",
   "name": "python3"
  },
  "language_info": {
   "codemirror_mode": {
    "name": "ipython",
    "version": 3
   },
   "file_extension": ".py",
   "mimetype": "text/x-python",
   "name": "python",
   "nbconvert_exporter": "python",
   "pygments_lexer": "ipython3",
   "version": "3.12.9"
  }
 },
 "nbformat": 4,
 "nbformat_minor": 2
}
